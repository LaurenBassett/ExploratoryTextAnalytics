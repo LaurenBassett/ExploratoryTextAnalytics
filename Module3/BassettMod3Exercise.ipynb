{
 "cells": [
  {
   "cell_type": "markdown",
   "metadata": {},
   "source": [
    "## Lauren Bassett\n",
    "## jme9rt  \n",
    "## DS 5001\n",
    "### Module 3: Code Exercise 3"
   ]
  },
  {
   "cell_type": "code",
   "execution_count": 1,
   "metadata": {},
   "outputs": [],
   "source": [
    "import re\n",
    "import math\n",
    "import pandas as pd\n"
   ]
  },
  {
   "cell_type": "markdown",
   "metadata": {},
   "source": [
    "Write a Jupyter Notebook file following the Pandas method to generate a Babel library permutation space with the following parameters:  \n",
    "- Use the Simple Polynesian alphabet (as found in the Schütz and Manning reading and printed below)  \n",
    "- Spaces have no weight in the character set  \n",
    "- Use a message length of seven  \n",
    "- Create a text by randomly selected seven letter words based on the weights (separated by spaces)  \n",
    "- Using the unigram term frequencies in that reading as weights, write a simple text generator from the Babel library you just created.  \n",
    "\n"
   ]
  },
  {
   "cell_type": "code",
   "execution_count": 51,
   "metadata": {},
   "outputs": [],
   "source": [
    "simplified_polynesian = pd.Series(\"p t k a i u\".split())\n",
    "weights = [0.125, 0.25, 0.125, 0.25, 0.125, 0.125 ]"
   ]
  },
  {
   "cell_type": "markdown",
   "metadata": {},
   "source": [
    "### In the library of Bable, there are ...\n",
    "40 lines per page \n",
    "and 80 characters per line. \n",
    "\n",
    "Given that the string is made up of 7 characters, and separated by a space, this equals the following:  \n",
    "- 40 lines  \n",
    "- Each line has 10 combinations of 7 letter words, each separated by one space.   \n",
    "- Including the space at the end of the line, this means that each line has 80 characters.   \n",
    "\n",
    "I have changed the function from the module to reflect this. "
   ]
  },
  {
   "cell_type": "code",
   "execution_count": 140,
   "metadata": {},
   "outputs": [],
   "source": [
    "def get_message(m_len = 7, weights=[]):\n",
    "    msg = \"\"\n",
    "    for i in range(m_len):\n",
    "        msg += simplified_polynesian.sample(7, replace=True, weights=weights).str.cat() + \" \"\n",
    "    return msg\n",
    "\n",
    "\n",
    "def print_page(n_pages = 1, weights=[]):\n",
    "    for i in range(n_pages):\n",
    "        for i in range(40):\n",
    "            print(get_message(10, weights), sep = \" \")\n",
    "   "
   ]
  },
  {
   "cell_type": "code",
   "execution_count": 106,
   "metadata": {},
   "outputs": [
    {
     "data": {
      "text/html": [
       "<div>\n",
       "<style scoped>\n",
       "    .dataframe tbody tr th:only-of-type {\n",
       "        vertical-align: middle;\n",
       "    }\n",
       "\n",
       "    .dataframe tbody tr th {\n",
       "        vertical-align: top;\n",
       "    }\n",
       "\n",
       "    .dataframe thead th {\n",
       "        text-align: right;\n",
       "    }\n",
       "</style>\n",
       "<table border=\"1\" class=\"dataframe\">\n",
       "  <thead>\n",
       "    <tr style=\"text-align: right;\">\n",
       "      <th></th>\n",
       "      <th>p</th>\n",
       "    </tr>\n",
       "    <tr>\n",
       "      <th>char</th>\n",
       "      <th></th>\n",
       "    </tr>\n",
       "  </thead>\n",
       "  <tbody>\n",
       "    <tr>\n",
       "      <th>t</th>\n",
       "      <td>0.250</td>\n",
       "    </tr>\n",
       "    <tr>\n",
       "      <th>a</th>\n",
       "      <td>0.250</td>\n",
       "    </tr>\n",
       "    <tr>\n",
       "      <th>p</th>\n",
       "      <td>0.125</td>\n",
       "    </tr>\n",
       "    <tr>\n",
       "      <th>k</th>\n",
       "      <td>0.125</td>\n",
       "    </tr>\n",
       "    <tr>\n",
       "      <th>i</th>\n",
       "      <td>0.125</td>\n",
       "    </tr>\n",
       "    <tr>\n",
       "      <th>u</th>\n",
       "      <td>0.125</td>\n",
       "    </tr>\n",
       "  </tbody>\n",
       "</table>\n",
       "</div>"
      ],
      "text/plain": [
       "          p\n",
       "char       \n",
       "t     0.250\n",
       "a     0.250\n",
       "p     0.125\n",
       "k     0.125\n",
       "i     0.125\n",
       "u     0.125"
      ]
     },
     "execution_count": 106,
     "metadata": {},
     "output_type": "execute_result"
    }
   ],
   "source": [
    "LM = pd.DataFrame(weights, index=simplified_polynesian).rename(columns={0:'p'})\n",
    "LM.index.name = 'char'\n",
    "LM.sort_values('p', ascending=False)"
   ]
  },
  {
   "cell_type": "code",
   "execution_count": 142,
   "metadata": {},
   "outputs": [
    {
     "name": "stdout",
     "output_type": "stream",
     "text": [
      "auittat tputaaa ukatpii tktkakk ttpttpu katuatp tutatit pukaiui iiuapka ttutpkt \n",
      "ttatpap piitukt tpatuku aattupa iaakaut aattuit aukikia auikttt kutitki utakttt \n",
      "kikptpt ptaaapa ikapkti tuuaatt tkuiapa uatkpau piiaika tapkata akitipt upuapku \n",
      "ppatakp kaaakpa kuatptu ttkatat kkpputk tttatup puuaata atpaaau atttuaa ttktkkt \n",
      "uaiitkt uiatipp uakuuit apaaiai ttttaau aiptkta tatuata utipkiu aiaaatt aittuia \n",
      "ikapupa kakkaua aukakii ukipuak taiuuap ptpitua tukuikp patiutt utkktpt iuauatu \n",
      "uuapukt atpkakt aktauta iiaukak kaiattt uautput appupau tkppuai iaatpkk ukipaau \n",
      "uitpktu aptaaua iapaatp atupauk ktauuat tipptau pkuikkp tauaiut ikiaaup uaktutp \n",
      "apupktu akaukak aiakktu tipakat utuatua kattipt takktui pukttua aiappta ttutapa \n",
      "tptiaua akktpka tkaaaau akatapt pautuau apatuku aakaait tattatt iaikpai ttkipaa \n",
      "tutpaaa ktitatp kpuutit ttaakut tatauii aaaaait uuiakaa akaautt patpaat kuatpit \n",
      "aaaukit aktttut takpatp taktipt apakktk tkatkat tuuitka paaikat uaattka tatttpk \n",
      "akapiaa kuuaiut ttatkaa ataitup tittkip tiapuia itktuak aaiuppa kkttttt taaiatt \n",
      "tkautit tkaktup tuitkkp ipituap ktatatt kuttpat puppkia atitkat ttatptt uapakui \n",
      "aitaaut utataau uatkaau iupiaua patuaai aakpaat iputppk ptkuuau tatpata tktatpu \n",
      "iaaktap ptpaiat kiatkpk uatapta tpaitaa aaaappk upiitap uaaktpp patkkpt kpipkat \n",
      "ttuptau tpiutaa ptatpku atpaiak pkaaita iaikaau tiiaipa tktikua iuitaai appatkt \n",
      "utttikt ukpptka kkttatt aitautk iuiaipt iaatpki kpiptua utuptak atapkau aiiappp \n",
      "aktkkpa apiautu uipatpa tkataia ttukpak itapkit utaiuki akaiitu kkaakti uaiaapk \n",
      "pataapi autkiia pauupup aikaaat pitpkit ppuiaak uupakkt upiaapi tuikait uiukiat \n",
      "tappttk kuiptpk tutaapa ttkttut ttkattt tukuitu ttiktpt aiktttp uptaiak ttktiat \n",
      "apukpip iaipiuk aitpaka paitaia tkuatau tktapaa tiutiuk iuppptu akitpui taauaii \n",
      "kaippak tpikiap tktttaa atuukit autauua ttkttkp tpiiiap tiitati tapauta ktauapa \n",
      "aiaakit atatapa kttkaat uuiuata kaktppa iauiktk aktutit kiaptai uktppta uatuiup \n",
      "iutitip uatapka ktiauiu aautupt tpakauu paauiaa ituuaui aattapt ipiiaai taiptpu \n",
      "itpapup ptaaiui ppttuta utaatti kiitkia uaaaauk tiuaput uapkiup atutiut kpiuiaa \n",
      "iatatit tttktpp kiatikt iautppu paitaaa atiatua apatkai appupaa kupuaap attutit \n",
      "paapkti tipkutk takaata tpiittt itiptaa kkkuppt atputau piatttu tkatutp iaikkkk \n",
      "taaiitp kkaakiu aitiaak ukkaiat aputaut piittaa uituiia aiutiuk taaitik tautpua \n",
      "aaapatt tittpik iptiait katatpu akuakiu atkatkk ttkatit pkataat aapaaia kupippk \n",
      "aktatau iuaupat aaiaitk iatittt aitutkt kptttut tptukpp ippaukk apipiau apkiuut \n",
      "itupkaa taupkak ktaukuk iaapukk piupupt tpaiiua iptttui kttautu aiattkt aatiapk \n",
      "upaaaak kttippt ipaaapt apkuipa putauik ttaauta ktauktt aiiutik tktaaii tutaika \n",
      "auaptti ttaaipt aakuaat iiuaiuk akaputa tappktk ttiuiip kptpkut kktaaia aaatkpa \n",
      "ptptaiu iatpitu tktuttk puitktu ttuuatt ttkauit uaaitia paaptta ataauip taaatui \n",
      "iappppt uptaiuk ittutat aptakpt ktaktkp kptaata ikpaiuu ikpttka ikiiiat kpuaatk \n",
      "tapuaap tukaatk kiuittp ukaktta uutkpui akutapi tiaaiik taukutp patatua kktpita \n",
      "kaiakta appaatt aakataa tktpaua tikkipa tauiatk uataika ptuaktu appptut aiappak \n",
      "ataauat ttptuat utaiuiu tautaaa attiapu puutkkp iaatkua kkakkua puatika kaatppi \n",
      "kipaitt utktaia aaapkia aktpauu tptkkip aiuitpt kttttkp uiptktu taptikk iaaktpi \n"
     ]
    }
   ],
   "source": [
    "print_page(1, weights)"
   ]
  },
  {
   "cell_type": "markdown",
   "metadata": {},
   "source": [
    "For fun, I included the visual from module 3 as well. "
   ]
  },
  {
   "cell_type": "code",
   "execution_count": 111,
   "metadata": {},
   "outputs": [
    {
     "data": {
      "image/png": "[encoded data removed]",
      "text/plain": [
       "<Figure size 360x720 with 1 Axes>"
      ]
     },
     "metadata": {
      "needs_background": "light"
     },
     "output_type": "display_data"
    }
   ],
   "source": [
    "LM.p.sort_values().plot(kind='barh', figsize=(5,10))"
   ]
  }
 ],
 "metadata": {
  "kernelspec": {
   "display_name": "Python 3.8.10 64-bit (microsoft store)",
   "language": "python",
   "name": "python3"
  },
  "language_info": {
   "codemirror_mode": {
    "name": "ipython",
    "version": 3
   },
   "file_extension": ".py",
   "mimetype": "text/x-python",
   "name": "python",
   "nbconvert_exporter": "python",
   "pygments_lexer": "ipython3",
   "version": "3.8.10"
  },
  "orig_nbformat": 4,
  "vscode": {
   "interpreter": {
    "hash": "619226f811c1a3cf24b57725644a3f9927ee4a52cb448157cb29be04a2ef885e"
   }
  }
 },
 "nbformat": 4,
 "nbformat_minor": 2
}
